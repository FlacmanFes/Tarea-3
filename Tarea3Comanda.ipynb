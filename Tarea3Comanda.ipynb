{
  "nbformat": 4,
  "nbformat_minor": 0,
  "metadata": {
    "colab": {
      "name": "Tarea3Comanda",
      "provenance": []
    },
    "kernelspec": {
      "name": "python3",
      "display_name": "Python 3"
    },
    "language_info": {
      "name": "python"
    }
  },
  "cells": [
    {
      "cell_type": "code",
      "metadata": {
        "colab": {
          "base_uri": "https://localhost:8080/"
        },
        "id": "_iz3OB_p_Kd5",
        "outputId": "0a54221b-9a4d-45bb-f80e-5ca761af2a74"
      },
      "source": [
        "restaurante={ \n",
        "  \"Mesa\": 3, \n",
        "  \"Comensales\": 2,\n",
        "  \"Platos\": {\n",
        "    \"Entrada\": \"Ensalada verde\",\n",
        "    \"Medio\": \"crema de zanahoria\",\n",
        "    \"Fuerte\": \"Filete\",\n",
        "  },\n",
        "  \"Adicionales\":{\n",
        "    \"Filete termino medio\",\n",
        "    \"Ensalada sin ninguna semilla\",\n",
        "    \"Adereso Ranch\",\n",
        "  }\n",
        "}\n",
        "print(restaurante)\n"
      ],
      "execution_count": 24,
      "outputs": [
        {
          "output_type": "stream",
          "name": "stdout",
          "text": [
            "{'Mesa': 3, 'Comensales': 2, 'Platos': {'Entrada': 'Ensalada verde', 'Medio': 'crema de zanahoria', 'Fuerte': 'Filete'}, 'Adicionales': {'Filete termino medio', 'Ensalada sin ninguna semilla', 'Adereso Ranch'}}\n"
          ]
        }
      ]
    }
  ]
}